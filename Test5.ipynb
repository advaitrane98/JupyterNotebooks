{
 "cells": [
  {
   "cell_type": "code",
   "execution_count": 16,
   "id": "f6cb66c5",
   "metadata": {},
   "outputs": [],
   "source": [
    "#page1 BTC\n",
    "\n",
    "import pandas as pd\n",
    "# data_df2=  pd.read_csv(r'C:\\Users\\advai\\Downloads\\Data-30mins1.csv')\n",
    "# data_df2=  pd.read_csv(r'C:\\Users\\advai\\Downloads\\Data-30mins.csv')\n",
    "data_df2=  pd.read_csv(r'C:\\Users\\advai\\Downloads\\Data-1hr.csv')\n",
    "# data_df2=  pd.read_csv(r'C:\\Users\\advai\\Downloads\\raw_data_83_days.csv')\n",
    "# k= 200*(data_df.at[0,'ETH/USD']/data_df.at[0,'ADA/USD'])\n",
    "\n",
    "data_df=data_df2.dropna()\n",
    "MCR=120\n",
    "\n",
    "def format_float(value):\n",
    "    return f'{value:,.5f}'\n",
    "pd.options.display.float_format = format_float\n",
    "\n",
    "rows=data_df.shape[0]\n",
    "a = []\n",
    "for i in range (0,rows-1):\n",
    "    b = []\n",
    "#     print(i)\n",
    "    for j in range(i,rows):\n",
    "        if j==i:\n",
    "            k=200*(data_df.at[i,'ETH/USD']/data_df.at[i,'ADA/USD'])\n",
    "            \n",
    "        \n",
    "        else:\n",
    "#               data_df.at[i,'constant']=data_df.at[0,'constant']*(data_df.at[i,'ADA/USD']/data_df.at[i,'BTC/USD'])\n",
    "            z=k*(data_df.at[j,'ADA/USD']/data_df.at[j,'ETH/USD'])\n",
    "            if z<MCR:\n",
    "                break\n",
    "            else:\n",
    "                b.append(z)\n",
    "    a.append(b)\n",
    "\n",
    "\n"
   ]
  },
  {
   "cell_type": "code",
   "execution_count": 13,
   "id": "25b6be2e",
   "metadata": {},
   "outputs": [
    {
     "data": {
      "text/plain": [
       "[]"
      ]
     },
     "execution_count": 13,
     "metadata": {},
     "output_type": "execute_result"
    }
   ],
   "source": [
    "a"
   ]
  },
  {
   "cell_type": "code",
   "execution_count": 5,
   "id": "9754bbf4",
   "metadata": {},
   "outputs": [],
   "source": [
    "#page2\n",
    "# MCR=120\n",
    "x=[]\n",
    "w=len(a)\n",
    "i=0\n",
    "for m in range(0,w):\n",
    "    \n",
    "    if len(a[m])<(w-i):\n",
    "        x.append(len(a[m])+1)\n",
    "    else:\n",
    "        x.append(0)\n",
    "    i=i+1\n",
    "    "
   ]
  },
  {
   "cell_type": "code",
   "execution_count": 66,
   "id": "31e76280",
   "metadata": {},
   "outputs": [
    {
     "data": {
      "text/plain": [
       "[3, 2, 1, 0, 0, 0, 0, 0]"
      ]
     },
     "execution_count": 66,
     "metadata": {},
     "output_type": "execute_result"
    }
   ],
   "source": [
    "x"
   ]
  },
  {
   "cell_type": "code",
   "execution_count": 6,
   "id": "d0312b89",
   "metadata": {},
   "outputs": [
    {
     "name": "stdout",
     "output_type": "stream",
     "text": [
      "mean:2295.781614064817\n",
      "median:2432\n",
      "probability of liquidation:75.05564387917329\n"
     ]
    }
   ],
   "source": [
    "#page4\n",
    "\n",
    "#mean\n",
    "\n",
    "def get_mean(ls):\n",
    "    v=[]\n",
    "    for r in ls:\n",
    "        if r==0:\n",
    "            continue\n",
    "        else:\n",
    "            v.append(r)\n",
    "    return sum(v)/len(v)\n",
    "\n",
    "\n",
    "#median with unique entries\n",
    "\n",
    "\n",
    "def get_median(ls):\n",
    "    q=[]\n",
    "    for r in ls:\n",
    "        if r not in q:\n",
    "            q.append(r)\n",
    "    # sort the list\n",
    "            q.sort()\n",
    "#     print(q)\n",
    "        \n",
    "    # find the median\n",
    "    if len(q) % 2 != 0:\n",
    "        m = int((len(q)+1)/2 - 1)\n",
    "        return q[m]\n",
    "    else:\n",
    "        m1 = int(len(q)/2 - 1)\n",
    "        m2 = int(len(q)/2)\n",
    "        return (q[m1]+q[m2])/2\n",
    "\n",
    "#probability of liquidation/no of cases where liquidation occurs\n",
    "def get_prob(ls):\n",
    "    q=[]\n",
    "    w=len(ls)\n",
    "    for r in ls:\n",
    "        if r!=0:\n",
    "            q.append(r)\n",
    "    return (len(q)/len(ls))*100\n",
    "\n",
    "    \n",
    "print(\"mean:\"+str(get_mean(x)))\n",
    "print(\"median:\"+str(get_median(x)))\n",
    "print(\"probability of liquidation:\"+str(get_prob(x)))"
   ]
  },
  {
   "cell_type": "code",
   "execution_count": 1,
   "id": "2b8c3e66",
   "metadata": {},
   "outputs": [
    {
     "ename": "KeyboardInterrupt",
     "evalue": "",
     "output_type": "error",
     "traceback": [
      "\u001b[1;31m---------------------------------------------------------------------------\u001b[0m",
      "\u001b[1;31mKeyboardInterrupt\u001b[0m                         Traceback (most recent call last)",
      "Input \u001b[1;32mIn [1]\u001b[0m, in \u001b[0;36m<cell line: 16>\u001b[1;34m()\u001b[0m\n\u001b[0;32m     21\u001b[0m             k\u001b[38;5;241m=\u001b[39m\u001b[38;5;241m200\u001b[39m\u001b[38;5;241m*\u001b[39m(data_df\u001b[38;5;241m.\u001b[39mat[i,\u001b[38;5;124m'\u001b[39m\u001b[38;5;124mETH/USD\u001b[39m\u001b[38;5;124m'\u001b[39m]\u001b[38;5;241m/\u001b[39mdata_df\u001b[38;5;241m.\u001b[39mat[i,\u001b[38;5;124m'\u001b[39m\u001b[38;5;124mADA/USD\u001b[39m\u001b[38;5;124m'\u001b[39m])\n\u001b[0;32m     24\u001b[0m         \u001b[38;5;28;01melse\u001b[39;00m:\n\u001b[0;32m     25\u001b[0m \u001b[38;5;66;03m#               data_df.at[i,'constant']=data_df.at[0,'constant']*(data_df.at[i,'ADA/USD']/data_df.at[i,'BTC/USD'])\u001b[39;00m\n\u001b[1;32m---> 26\u001b[0m             z\u001b[38;5;241m=\u001b[39mk\u001b[38;5;241m*\u001b[39m(data_df\u001b[38;5;241m.\u001b[39mat[j,\u001b[38;5;124m'\u001b[39m\u001b[38;5;124mADA/USD\u001b[39m\u001b[38;5;124m'\u001b[39m]\u001b[38;5;241m/\u001b[39m\u001b[43mdata_df\u001b[49m\u001b[38;5;241;43m.\u001b[39;49m\u001b[43mat\u001b[49m[j,\u001b[38;5;124m'\u001b[39m\u001b[38;5;124mETH/USD\u001b[39m\u001b[38;5;124m'\u001b[39m])\n\u001b[0;32m     27\u001b[0m             \u001b[38;5;28;01mif\u001b[39;00m z\u001b[38;5;241m<\u001b[39mMCR:\n\u001b[0;32m     28\u001b[0m                 \u001b[38;5;28;01mbreak\u001b[39;00m\n",
      "File \u001b[1;32m~\\AppData\\Local\\Programs\\Python\\Python310\\lib\\site-packages\\pandas\\core\\indexing.py:574\u001b[0m, in \u001b[0;36mIndexingMixin.at\u001b[1;34m(self)\u001b[0m\n\u001b[0;32m    527\u001b[0m \u001b[38;5;129m@property\u001b[39m\n\u001b[0;32m    528\u001b[0m \u001b[38;5;28;01mdef\u001b[39;00m \u001b[38;5;21mat\u001b[39m(\u001b[38;5;28mself\u001b[39m) \u001b[38;5;241m-\u001b[39m\u001b[38;5;241m>\u001b[39m _AtIndexer:\n\u001b[0;32m    529\u001b[0m     \u001b[38;5;124;03m\"\"\"\u001b[39;00m\n\u001b[0;32m    530\u001b[0m \u001b[38;5;124;03m    Access a single value for a row/column label pair.\u001b[39;00m\n\u001b[0;32m    531\u001b[0m \n\u001b[1;32m   (...)\u001b[0m\n\u001b[0;32m    572\u001b[0m \u001b[38;5;124;03m    4\u001b[39;00m\n\u001b[0;32m    573\u001b[0m \u001b[38;5;124;03m    \"\"\"\u001b[39;00m\n\u001b[1;32m--> 574\u001b[0m     \u001b[38;5;28;01mreturn\u001b[39;00m \u001b[43m_AtIndexer\u001b[49m\u001b[43m(\u001b[49m\u001b[38;5;124;43m\"\u001b[39;49m\u001b[38;5;124;43mat\u001b[39;49m\u001b[38;5;124;43m\"\u001b[39;49m\u001b[43m,\u001b[49m\u001b[43m \u001b[49m\u001b[38;5;28;43mself\u001b[39;49m\u001b[43m)\u001b[49m\n",
      "\u001b[1;31mKeyboardInterrupt\u001b[0m: "
     ]
    }
   ],
   "source": [
    "#page1 BTC\n",
    "\n",
    "import pandas as pd\n",
    "data_df=  pd.read_csv(r'C:\\Users\\advai\\Downloads\\Data-30mins1.csv')\n",
    "# data_df=  pd.read_csv(r'C:\\Users\\advai\\Downloads\\Data-1hr.csv')\n",
    "# data_df=  pd.read_csv(r'C:\\Users\\advai\\Downloads\\raw_data_83_days.csv')\n",
    "k= 200*(data_df.at[0,'ETH/USD']/data_df.at[0,'ADA/USD'])\n",
    "MCR=140\n",
    "\n",
    "def format_float(value):\n",
    "    return f'{value:,.5f}'\n",
    "pd.options.display.float_format = format_float\n",
    "\n",
    "rows=data_df.shape[0]\n",
    "a = []\n",
    "for i in range (0,rows):\n",
    "    b = []\n",
    "#     print(i)\n",
    "    for j in range(i,rows):\n",
    "        if j==i:\n",
    "            k=200*(data_df.at[i,'ETH/USD']/data_df.at[i,'ADA/USD'])\n",
    "        \n",
    "        \n",
    "        else:\n",
    "#               data_df.at[i,'constant']=data_df.at[0,'constant']*(data_df.at[i,'ADA/USD']/data_df.at[i,'BTC/USD'])\n",
    "            z=k*(data_df.at[j,'ADA/USD']/data_df.at[j,'ETH/USD'])\n",
    "            if z<MCR:\n",
    "                break\n",
    "            else:\n",
    "                b.append(z)\n",
    "    a.append(b)\n",
    "\n",
    "\n"
   ]
  },
  {
   "cell_type": "code",
   "execution_count": null,
   "id": "b67ec5a8",
   "metadata": {},
   "outputs": [],
   "source": [
    "#page2\n",
    "# MCR=140\n",
    "x=[]\n",
    "w=len(a)\n",
    "i=0\n",
    "for m in range(0,w):\n",
    "    i=i+1\n",
    "    if len(a[m])<(w-i-1):\n",
    "        x.append(len(a[m]))\n",
    "    else:\n",
    "        x.append(0)\n",
    "    "
   ]
  },
  {
   "cell_type": "code",
   "execution_count": 21,
   "id": "9b81805e",
   "metadata": {},
   "outputs": [
    {
     "data": {
      "text/html": [
       "<div>\n",
       "<style scoped>\n",
       "    .dataframe tbody tr th:only-of-type {\n",
       "        vertical-align: middle;\n",
       "    }\n",
       "\n",
       "    .dataframe tbody tr th {\n",
       "        vertical-align: top;\n",
       "    }\n",
       "\n",
       "    .dataframe thead th {\n",
       "        text-align: right;\n",
       "    }\n",
       "</style>\n",
       "<table border=\"1\" class=\"dataframe\">\n",
       "  <thead>\n",
       "    <tr style=\"text-align: right;\">\n",
       "      <th></th>\n",
       "      <th>time</th>\n",
       "      <th>ADA/USD</th>\n",
       "      <th>ETH/USD</th>\n",
       "      <th>230891.5011</th>\n",
       "      <th>Unnamed: 4</th>\n",
       "    </tr>\n",
       "  </thead>\n",
       "  <tbody>\n",
       "    <tr>\n",
       "      <th>0</th>\n",
       "      <td>24-08-2021 00:00</td>\n",
       "      <td>2.88390</td>\n",
       "      <td>3,329.34000</td>\n",
       "      <td>200.00000</td>\n",
       "      <td>229,790.37460</td>\n",
       "    </tr>\n",
       "    <tr>\n",
       "      <th>1</th>\n",
       "      <td>24-08-2021 00:30</td>\n",
       "      <td>2.88610</td>\n",
       "      <td>3,315.99000</td>\n",
       "      <td>200.95837</td>\n",
       "      <td>200.00000</td>\n",
       "    </tr>\n",
       "    <tr>\n",
       "      <th>2</th>\n",
       "      <td>24-08-2021 01:00</td>\n",
       "      <td>2.88640</td>\n",
       "      <td>3,310.12000</td>\n",
       "      <td>201.33567</td>\n",
       "      <td>200.37550</td>\n",
       "    </tr>\n",
       "    <tr>\n",
       "      <th>3</th>\n",
       "      <td>24-08-2021 01:30</td>\n",
       "      <td>1.90000</td>\n",
       "      <td>3,314.37000</td>\n",
       "      <td>132.36116</td>\n",
       "      <td>131.72993</td>\n",
       "    </tr>\n",
       "    <tr>\n",
       "      <th>4</th>\n",
       "      <td>24-08-2021 02:00</td>\n",
       "      <td>3.00000</td>\n",
       "      <td>3,339.93000</td>\n",
       "      <td>207.39192</td>\n",
       "      <td>206.40287</td>\n",
       "    </tr>\n",
       "    <tr>\n",
       "      <th>...</th>\n",
       "      <td>...</td>\n",
       "      <td>...</td>\n",
       "      <td>...</td>\n",
       "      <td>...</td>\n",
       "      <td>...</td>\n",
       "    </tr>\n",
       "    <tr>\n",
       "      <th>17516</th>\n",
       "      <td>NaN</td>\n",
       "      <td>NaN</td>\n",
       "      <td>NaN</td>\n",
       "      <td>NaN</td>\n",
       "      <td>NaN</td>\n",
       "    </tr>\n",
       "    <tr>\n",
       "      <th>17517</th>\n",
       "      <td>NaN</td>\n",
       "      <td>NaN</td>\n",
       "      <td>NaN</td>\n",
       "      <td>NaN</td>\n",
       "      <td>NaN</td>\n",
       "    </tr>\n",
       "    <tr>\n",
       "      <th>17518</th>\n",
       "      <td>NaN</td>\n",
       "      <td>NaN</td>\n",
       "      <td>NaN</td>\n",
       "      <td>NaN</td>\n",
       "      <td>NaN</td>\n",
       "    </tr>\n",
       "    <tr>\n",
       "      <th>17519</th>\n",
       "      <td>NaN</td>\n",
       "      <td>NaN</td>\n",
       "      <td>NaN</td>\n",
       "      <td>NaN</td>\n",
       "      <td>NaN</td>\n",
       "    </tr>\n",
       "    <tr>\n",
       "      <th>17520</th>\n",
       "      <td>NaN</td>\n",
       "      <td>NaN</td>\n",
       "      <td>NaN</td>\n",
       "      <td>NaN</td>\n",
       "      <td>NaN</td>\n",
       "    </tr>\n",
       "  </tbody>\n",
       "</table>\n",
       "<p>17521 rows × 5 columns</p>\n",
       "</div>"
      ],
      "text/plain": [
       "                   time  ADA/USD     ETH/USD  230891.5011    Unnamed: 4\n",
       "0      24-08-2021 00:00  2.88390 3,329.34000    200.00000 229,790.37460\n",
       "1      24-08-2021 00:30  2.88610 3,315.99000    200.95837     200.00000\n",
       "2      24-08-2021 01:00  2.88640 3,310.12000    201.33567     200.37550\n",
       "3      24-08-2021 01:30  1.90000 3,314.37000    132.36116     131.72993\n",
       "4      24-08-2021 02:00  3.00000 3,339.93000    207.39192     206.40287\n",
       "...                 ...      ...         ...          ...           ...\n",
       "17516               NaN      NaN         NaN          NaN           NaN\n",
       "17517               NaN      NaN         NaN          NaN           NaN\n",
       "17518               NaN      NaN         NaN          NaN           NaN\n",
       "17519               NaN      NaN         NaN          NaN           NaN\n",
       "17520               NaN      NaN         NaN          NaN           NaN\n",
       "\n",
       "[17521 rows x 5 columns]"
      ]
     },
     "execution_count": 21,
     "metadata": {},
     "output_type": "execute_result"
    }
   ],
   "source": [
    "data_df=  pd.read_csv(r'C:\\Users\\advai\\Downloads\\Data-30mins1.csv')\n",
    "\n",
    "data_df"
   ]
  },
  {
   "cell_type": "code",
   "execution_count": 14,
   "id": "d30128c6",
   "metadata": {},
   "outputs": [
    {
     "data": {
      "text/html": [
       "<div>\n",
       "<style scoped>\n",
       "    .dataframe tbody tr th:only-of-type {\n",
       "        vertical-align: middle;\n",
       "    }\n",
       "\n",
       "    .dataframe tbody tr th {\n",
       "        vertical-align: top;\n",
       "    }\n",
       "\n",
       "    .dataframe thead th {\n",
       "        text-align: right;\n",
       "    }\n",
       "</style>\n",
       "<table border=\"1\" class=\"dataframe\">\n",
       "  <thead>\n",
       "    <tr style=\"text-align: right;\">\n",
       "      <th></th>\n",
       "      <th>time</th>\n",
       "      <th>ADA/USD</th>\n",
       "      <th>ETH/USD</th>\n",
       "      <th>43723683.93</th>\n",
       "      <th>Unnamed: 4</th>\n",
       "      <th>Unnamed: 5</th>\n",
       "      <th>Unnamed: 6</th>\n",
       "      <th>Unnamed: 7</th>\n",
       "    </tr>\n",
       "  </thead>\n",
       "  <tbody>\n",
       "    <tr>\n",
       "      <th>3</th>\n",
       "      <td>24-08-2021 02:30</td>\n",
       "      <td>0.03397</td>\n",
       "      <td>7,300.34693</td>\n",
       "      <td>203.43945</td>\n",
       "      <td>200.65593</td>\n",
       "      <td>198.67474</td>\n",
       "      <td>200.00000</td>\n",
       "      <td>42,984,468.38000</td>\n",
       "    </tr>\n",
       "    <tr>\n",
       "      <th>4</th>\n",
       "      <td>24-08-2021 03:30</td>\n",
       "      <td>0.03430</td>\n",
       "      <td>7,351.37705</td>\n",
       "      <td>203.99559</td>\n",
       "      <td>201.20446</td>\n",
       "      <td>199.21785</td>\n",
       "      <td>200.54673</td>\n",
       "      <td>200.54673</td>\n",
       "    </tr>\n",
       "    <tr>\n",
       "      <th>5</th>\n",
       "      <td>24-08-2021 04:30</td>\n",
       "      <td>0.03443</td>\n",
       "      <td>7,349.97225</td>\n",
       "      <td>204.79997</td>\n",
       "      <td>201.99784</td>\n",
       "      <td>200.00340</td>\n",
       "      <td>201.33752</td>\n",
       "      <td>201.33752</td>\n",
       "    </tr>\n",
       "    <tr>\n",
       "      <th>6</th>\n",
       "      <td>24-08-2021 05:30</td>\n",
       "      <td>0.03700</td>\n",
       "      <td>7,734.67552</td>\n",
       "      <td>209.15108</td>\n",
       "      <td>206.28941</td>\n",
       "      <td>204.25260</td>\n",
       "      <td>205.61507</td>\n",
       "      <td>205.61507</td>\n",
       "    </tr>\n",
       "    <tr>\n",
       "      <th>7</th>\n",
       "      <td>24-08-2021 06:30</td>\n",
       "      <td>0.03700</td>\n",
       "      <td>8,147.41524</td>\n",
       "      <td>198.56482</td>\n",
       "      <td>195.84800</td>\n",
       "      <td>193.91428</td>\n",
       "      <td>195.20778</td>\n",
       "      <td>195.20778</td>\n",
       "    </tr>\n",
       "    <tr>\n",
       "      <th>8</th>\n",
       "      <td>24-08-2021 07:30</td>\n",
       "      <td>0.03623</td>\n",
       "      <td>8,045.78913</td>\n",
       "      <td>196.86094</td>\n",
       "      <td>194.16742</td>\n",
       "      <td>192.25030</td>\n",
       "      <td>193.53270</td>\n",
       "      <td>193.53270</td>\n",
       "    </tr>\n",
       "  </tbody>\n",
       "</table>\n",
       "</div>"
      ],
      "text/plain": [
       "               time  ADA/USD     ETH/USD  43723683.93  Unnamed: 4  Unnamed: 5  \\\n",
       "3  24-08-2021 02:30  0.03397 7,300.34693    203.43945   200.65593   198.67474   \n",
       "4  24-08-2021 03:30  0.03430 7,351.37705    203.99559   201.20446   199.21785   \n",
       "5  24-08-2021 04:30  0.03443 7,349.97225    204.79997   201.99784   200.00340   \n",
       "6  24-08-2021 05:30  0.03700 7,734.67552    209.15108   206.28941   204.25260   \n",
       "7  24-08-2021 06:30  0.03700 8,147.41524    198.56482   195.84800   193.91428   \n",
       "8  24-08-2021 07:30  0.03623 8,045.78913    196.86094   194.16742   192.25030   \n",
       "\n",
       "   Unnamed: 6       Unnamed: 7  \n",
       "3   200.00000 42,984,468.38000  \n",
       "4   200.54673        200.54673  \n",
       "5   201.33752        201.33752  \n",
       "6   205.61507        205.61507  \n",
       "7   195.20778        195.20778  \n",
       "8   193.53270        193.53270  "
      ]
     },
     "execution_count": 14,
     "metadata": {},
     "output_type": "execute_result"
    }
   ],
   "source": [
    "data_df\n"
   ]
  },
  {
   "cell_type": "code",
   "execution_count": 32,
   "id": "03a23090",
   "metadata": {},
   "outputs": [
    {
     "data": {
      "text/plain": [
       "9"
      ]
     },
     "execution_count": 32,
     "metadata": {},
     "output_type": "execute_result"
    }
   ],
   "source": [
    "rows"
   ]
  },
  {
   "cell_type": "code",
   "execution_count": 38,
   "id": "4b12a7c7",
   "metadata": {},
   "outputs": [
    {
     "data": {
      "text/plain": [
       "2"
      ]
     },
     "execution_count": 38,
     "metadata": {},
     "output_type": "execute_result"
    }
   ],
   "source": [
    "len(a[0])"
   ]
  },
  {
   "cell_type": "code",
   "execution_count": 37,
   "id": "dd9e46f4",
   "metadata": {},
   "outputs": [
    {
     "data": {
      "text/plain": [
       "8"
      ]
     },
     "execution_count": 37,
     "metadata": {},
     "output_type": "execute_result"
    }
   ],
   "source": [
    "len(a)"
   ]
  },
  {
   "cell_type": "code",
   "execution_count": null,
   "id": "3c4fef17",
   "metadata": {},
   "outputs": [],
   "source": []
  }
 ],
 "metadata": {
  "kernelspec": {
   "display_name": "Python 3 (ipykernel)",
   "language": "python",
   "name": "python3"
  },
  "language_info": {
   "codemirror_mode": {
    "name": "ipython",
    "version": 3
   },
   "file_extension": ".py",
   "mimetype": "text/x-python",
   "name": "python",
   "nbconvert_exporter": "python",
   "pygments_lexer": "ipython3",
   "version": "3.10.6"
  }
 },
 "nbformat": 4,
 "nbformat_minor": 5
}
